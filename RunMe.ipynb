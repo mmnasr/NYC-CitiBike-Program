{
 "cells": [
  {
   "cell_type": "code",
   "execution_count": 37,
   "metadata": {
    "collapsed": true
   },
   "outputs": [],
   "source": [
    "import pandas as pd\n",
    "import numpy as np"
   ]
  },
  {
   "cell_type": "code",
   "execution_count": 38,
   "metadata": {
    "collapsed": true
   },
   "outputs": [],
   "source": [
    "# This function computes the 'great circle arc' distance given \n",
    "# the coordinates of (latitude, longitude) the start and end stations \n",
    "def comput_trip_length(df):\n",
    "    R = 6371 # Earth radius\n",
    "\n",
    "    darc = pd.np.deg2rad(df['start station latitude']).to_frame('lat1')\n",
    "    darc['lat2'] = pd.np.deg2rad(df['end station latitude'])\n",
    "    darc['long1'] = pd.np.deg2rad(df['start station longitude'])\n",
    "    darc['long2'] = pd.np.deg2rad(df['end station longitude'])\n",
    "    darc['sin_phi'] = pd.np.sin(0.5*(darc['lat2'] - darc['lat1']))\n",
    "    darc['sin_landa'] = pd.np.sin(0.5*(darc['long2'] - darc['long1']))#.to_frame('sin_landa')\n",
    "    darc['a_term'] = darc['sin_phi']*darc['sin_phi'] + darc['sin_landa']*darc['sin_landa'] * np.cos(darc['lat1'])*np.cos(darc['lat2'])\n",
    "    darc['arcdistance'] = R*(2.0*np.arctan2(np.sqrt( darc['a_term']), np.sqrt( 1.0-darc['a_term'])))\n",
    "    \n",
    "    return darc['arcdistance']"
   ]
  },
  {
   "cell_type": "code",
   "execution_count": 39,
   "metadata": {
    "collapsed": false
   },
   "outputs": [],
   "source": [
    "def load_and_prepare_data(load_prepared_data=False, add_arcdistance_column=True, save_data=True):\n",
    "\n",
    "    if (load_prepared_data):\n",
    "        print(\"Loading 2015-prepared_data.csv ...\")\n",
    "        df = pd.read_csv(\"2015-prepared_data.csv\", parse_dates=['starttime', 'stoptime'] )\n",
    "        print(\"successfully.\")\n",
    "        return df\n",
    "    \n",
    "    # Go through monthly zipped csv files and import them as dataframe. \n",
    "    # Append all those files to a massive dataframe\n",
    "    n_months = 12\n",
    "    for month in range(1,n_months+1):\n",
    "        filename = \"2015\"+str(month).zfill(2)+\"-citibike-tripdata.zip\"\n",
    "        print(\"Loading: \"+filename)\n",
    "        dm = pd.read_csv(filename, parse_dates=['starttime', 'stoptime'])\n",
    "        if (month == 1):\n",
    "            df = dm\n",
    "        else:\n",
    "            df = pd.concat([df, dm])\n",
    "    \n",
    "    # To save memory, we compute the trip lenght at this stage. \n",
    "    # Upon completing this, we can eliminate four columns (latitude and longitute of start and end stations)\n",
    "    # from the original dataframe\n",
    "    if (add_arcdistance_column):\n",
    "        # Add a new column to original dataframe\n",
    "        df['trip length'] = comput_trip_length(df)\n",
    "        print('\\nTrip length calcualted based on \"great arc circle\". New column added as \"trip length\".')\n",
    "\n",
    "    # Drop columns that are not necessary for the rest of this Challenge. \n",
    "    delete_cols = ['start station name', 'start station latitude', 'start station longitude', 'end station name', 'end station latitude', 'end station longitude', 'birth year', 'gender']\n",
    "    print('\\nUnnecessary columns dropped:')\n",
    "    print(delete_cols)\n",
    "    df.drop(delete_cols, axis=1, inplace=True)\n",
    "\n",
    "    if (save_data):\n",
    "        fnameout = \"2015-prepared_data.csv\"\n",
    "        df.to_csv(fnameout, index=False)\n",
    "        print('\\nData saved to ' + fnameout)\n",
    "        \n",
    "    return df"
   ]
  },
  {
   "cell_type": "code",
   "execution_count": 40,
   "metadata": {
    "collapsed": true
   },
   "outputs": [],
   "source": [
    "# Part 1: What is the median trip duration, in seconds?\n",
    "def part1_median_trip_duration(df):\n",
    "    print(\"Part1: Median trip duration in 2015 was: \" + str(df['tripduration'].median()) + ' seconds')"
   ]
  },
  {
   "cell_type": "code",
   "execution_count": 41,
   "metadata": {
    "collapsed": true
   },
   "outputs": [],
   "source": [
    "# Part 2: What fraction of rides start and end at the same station?\n",
    "def part2_fraction_of_rides_same_start_stop(df):\n",
    "    Nt = len(df)\n",
    "    N_same_stations = len(df[df['start station id'] == df['end station id']])\n",
    "    print('Part 2: Fraction of rides start and end at the same station:' + str(N_same_stations/float(Nt)))"
   ]
  },
  {
   "cell_type": "code",
   "execution_count": 42,
   "metadata": {
    "collapsed": true
   },
   "outputs": [],
   "source": [
    "# What is the standard deviation of the number of stations visited by a bike?\n",
    "def part3_standard_deviation_bike_station_visit(df):\n",
    "    # First, group dataset by bikeid\n",
    "    grouped = df.groupby('bikeid',as_index=False)['start station id', 'end station id']\n",
    "\n",
    "    # Now go through each group, create a set of both start and end stations, drop the duplicates and find the length. \n",
    "    # This should give the number of stations visited by a unique bike\n",
    "    bike_station_visit_count = {}\n",
    "    for bikeid, group in grouped:\n",
    "        bike_station_visit_count[bikeid] = len(pd.unique(group[['start station id', 'end station id']].values.ravel()))\n",
    "\n",
    "    visits = bike_station_visit_count.values()\n",
    "    standard_dev = np.std(visits)\n",
    "    \n",
    "    print(\"Part 3: Standard deviation of the number of stations visited by a bike: \" + str(standard_dev))"
   ]
  },
  {
   "cell_type": "code",
   "execution_count": 43,
   "metadata": {
    "collapsed": false
   },
   "outputs": [],
   "source": [
    "# Part 4: What is the average length, in kilometers, of a trip? \n",
    "def part4_average_trip_length(df):\n",
    "    dtemp = df[df['trip length'] > 0]\n",
    "    print('Part 4: Average length, in kilometers, of a trip (excluding trips with the same start and stop stations): ' + str(dtemp['trip length'].mean()))    "
   ]
  },
  {
   "cell_type": "code",
   "execution_count": 44,
   "metadata": {
    "collapsed": false
   },
   "outputs": [],
   "source": [
    "def part5_average_duration_of_trips_monthly(df):\n",
    "    df['startmonth'] = df['starttime'].dt.month\n",
    "    monthly_tripduration_average = df.groupby('startmonth')['tripduration'].mean()\n",
    "#    monthly_tripduration_average = df.groupby(lambda x:x.starttime.dt.month)['tripduration'].mean()\n",
    "    print('Part 5: Difference between maximum and minimum average of monthly trip durations: '+ str(max(monthly_tripduration_average) - min(monthly_tripduration_average)) + ' second.')"
   ]
  },
  {
   "cell_type": "code",
   "execution_count": 59,
   "metadata": {
    "collapsed": false
   },
   "outputs": [],
   "source": [
    "# What is the largest ratio of station hourly usage fraction to system hourly usage fraction (hence corresponding to the most \"surprising\" station-hour pair)?\n",
    "def part6_largest_ratio_of_hourly_usage(df):\n",
    "    # Extract hour and add it as a new column\n",
    "    df['hour'] = df['starttime'].dt.hour\n",
    "\n",
    "    # Group by 'start station id'. Then get the size to return the total number of trips started at each station in 2015\n",
    "    stations_total_trip_count_2015 = df.groupby(['start station id']).size()\n",
    "\n",
    "    # hours: 0,1,...,23\n",
    "    hourly_trip_fraction_whole_system = df.groupby('hour').size() / float(len(df))\n",
    "\n",
    "    # hours: 0,1,...,23\n",
    "    # start station id: (many values)\n",
    "    # number of trips took place during that hour for each station\n",
    "    hourly_trip_count_each_station = df.groupby(['hour', 'start station id']).size()\n",
    "\n",
    "    max_ratio = 0.0\n",
    "    for hr_stid, trip_count in hourly_trip_count_each_station.iteritems():\n",
    "        # hour\n",
    "        hr = hr_stid[0]\n",
    "        # start station id \n",
    "        station_id = hr_stid[1]\n",
    "\n",
    "        # Total number of trips from 'start station id' in 2015\n",
    "        total_count_station = stations_total_trip_count_2015[station_id]\n",
    "\n",
    "        # Hourly fraction of trips from 'start station id' occuring at current hour (to the whole trips in 2015 for current station)\n",
    "        st_fraction = trip_count / float(total_count_station)\n",
    "\n",
    "        # Hourly fraction of trips from all stations occuring at current hour (to the whole trip count in 2015)\n",
    "        wh_fraction = hourly_trip_fraction_whole_system[hr]\n",
    "        max_ratio = max(max_ratio, (st_fraction/wh_fraction))\n",
    "    \n",
    "    print(\"Part 6: Largest ratio of station hourly usage fraction to system hourly usage fraction: \" + str(max_ratio))"
   ]
  },
  {
   "cell_type": "code",
   "execution_count": 45,
   "metadata": {
    "collapsed": false
   },
   "outputs": [],
   "source": [
    "# What fraction of rides exceed their corresponding time limit?\n",
    "def part7_fraction_of_rides_exceeding_time_limit(df):\n",
    "    Nt = len(df)\n",
    "    # Regular customers exceeding their allowed time\n",
    "    allowed_time = 30*60 # Regular customers (seconds)\n",
    "    N_customer_exceed = len(df[(df['usertype'] == 'Customer') & (df['tripduration'] > allowed_time)])\n",
    "    \n",
    "    # Subscribed customers exceeding their allowed time\n",
    "    allowed_time = 45*60 # Subscribed customers (seconds)\n",
    "    N_subscriber_exceed = len(df[(df['usertype'] == 'Subscriber') & (df['tripduration'] > allowed_time)])    \n",
    "    \n",
    "    Fraction = (N_customer_exceed + N_subscriber_exceed)/float(Nt)\n",
    "    print('Part 7: Fraction of rides exceed their corresponding time limit: ' + str(Fraction))"
   ]
  },
  {
   "cell_type": "code",
   "execution_count": 46,
   "metadata": {
    "collapsed": true
   },
   "outputs": [],
   "source": [
    "# What is the average number of times a bike is moved \n",
    "def part8_average_number_of_time_bike_moved(df):\n",
    "\n",
    "    # Sort by bikeid first, then sort by trip starttime\n",
    "    df.sort_values(by=['bikeid', 'starttime'], ascending=[True, True], inplace=True)\n",
    "\n",
    "    # Now with the soted dataframe, for each bike we like to find out the previous end station id. \n",
    "    # Shift the entire rows of 'end station id' one below and copy the results as a new column defining \n",
    "    # 'previous trip end station id'\n",
    "    df['previous trip end station id'] = df['end station id'].shift()\n",
    "\n",
    "    # Replace the NaN values by the value of the 'start station id'. \n",
    "    # Note that we alway gets one on the first row since we shift the rows down by one.\n",
    "    df['previous trip end station id'].fillna(df['start station id'], inplace=True)\n",
    "\n",
    "    # Convert float to int\n",
    "    df['previous trip end station id'] = df['previous trip end station id'].astype(int)\n",
    "    \n",
    "    # Now, for each bike, check the two columns 'start station id' and 'previous trip end station id'. \n",
    "    # If they are not the same, them the bike is moved for maintenance or re-distribution.\n",
    "    df['moved'] = (df['previous trip end station id'] != df['start station id'])\n",
    "\n",
    "    # Number of times each bike is moved from previously parked station\n",
    "    # groupy dataset by bikeid. Sum (1:True) and it will give us the total number of time each bike is moved. \n",
    "    bike_moved_count = df.groupby('bikeid')['moved'].sum()\n",
    "    print(\"Part 8: The average number of times a bike is moved for redistribution or maintenance: \" + str(bike_moved_count.mean()))"
   ]
  },
  {
   "cell_type": "code",
   "execution_count": 47,
   "metadata": {
    "collapsed": false
   },
   "outputs": [
    {
     "name": "stdout",
     "output_type": "stream",
     "text": [
      "Loading 2015-prepared_data.csv ...\n",
      "successfully.\n"
     ]
    }
   ],
   "source": [
    "df = load_and_prepare_data(load_prepared_data=False, add_arcdistance_column=True, save_data=False)"
   ]
  },
  {
   "cell_type": "code",
   "execution_count": 48,
   "metadata": {
    "collapsed": false
   },
   "outputs": [
    {
     "data": {
      "text/html": [
       "<div>\n",
       "<table border=\"1\" class=\"dataframe\">\n",
       "  <thead>\n",
       "    <tr style=\"text-align: right;\">\n",
       "      <th></th>\n",
       "      <th>Unnamed: 0</th>\n",
       "      <th>tripduration</th>\n",
       "      <th>starttime</th>\n",
       "      <th>stoptime</th>\n",
       "      <th>start station id</th>\n",
       "      <th>end station id</th>\n",
       "      <th>bikeid</th>\n",
       "      <th>usertype</th>\n",
       "      <th>trip length</th>\n",
       "    </tr>\n",
       "  </thead>\n",
       "  <tbody>\n",
       "    <tr>\n",
       "      <th>0</th>\n",
       "      <td>0</td>\n",
       "      <td>1346</td>\n",
       "      <td>2015-01-01 00:01:00</td>\n",
       "      <td>2015-01-01 00:24:00</td>\n",
       "      <td>455</td>\n",
       "      <td>265</td>\n",
       "      <td>18660</td>\n",
       "      <td>Subscriber</td>\n",
       "      <td>3.615820</td>\n",
       "    </tr>\n",
       "    <tr>\n",
       "      <th>1</th>\n",
       "      <td>1</td>\n",
       "      <td>363</td>\n",
       "      <td>2015-01-01 00:02:00</td>\n",
       "      <td>2015-01-01 00:08:00</td>\n",
       "      <td>434</td>\n",
       "      <td>482</td>\n",
       "      <td>16085</td>\n",
       "      <td>Subscriber</td>\n",
       "      <td>0.560745</td>\n",
       "    </tr>\n",
       "    <tr>\n",
       "      <th>2</th>\n",
       "      <td>2</td>\n",
       "      <td>346</td>\n",
       "      <td>2015-01-01 00:04:00</td>\n",
       "      <td>2015-01-01 00:10:00</td>\n",
       "      <td>491</td>\n",
       "      <td>505</td>\n",
       "      <td>20845</td>\n",
       "      <td>Subscriber</td>\n",
       "      <td>0.918719</td>\n",
       "    </tr>\n",
       "    <tr>\n",
       "      <th>3</th>\n",
       "      <td>3</td>\n",
       "      <td>182</td>\n",
       "      <td>2015-01-01 00:04:00</td>\n",
       "      <td>2015-01-01 00:07:00</td>\n",
       "      <td>384</td>\n",
       "      <td>399</td>\n",
       "      <td>19610</td>\n",
       "      <td>Subscriber</td>\n",
       "      <td>0.602053</td>\n",
       "    </tr>\n",
       "    <tr>\n",
       "      <th>4</th>\n",
       "      <td>4</td>\n",
       "      <td>969</td>\n",
       "      <td>2015-01-01 00:05:00</td>\n",
       "      <td>2015-01-01 00:21:00</td>\n",
       "      <td>474</td>\n",
       "      <td>432</td>\n",
       "      <td>20197</td>\n",
       "      <td>Subscriber</td>\n",
       "      <td>2.122555</td>\n",
       "    </tr>\n",
       "  </tbody>\n",
       "</table>\n",
       "</div>"
      ],
      "text/plain": [
       "   Unnamed: 0  tripduration           starttime            stoptime  \\\n",
       "0           0          1346 2015-01-01 00:01:00 2015-01-01 00:24:00   \n",
       "1           1           363 2015-01-01 00:02:00 2015-01-01 00:08:00   \n",
       "2           2           346 2015-01-01 00:04:00 2015-01-01 00:10:00   \n",
       "3           3           182 2015-01-01 00:04:00 2015-01-01 00:07:00   \n",
       "4           4           969 2015-01-01 00:05:00 2015-01-01 00:21:00   \n",
       "\n",
       "   start station id  end station id  bikeid    usertype  trip length  \n",
       "0               455             265   18660  Subscriber     3.615820  \n",
       "1               434             482   16085  Subscriber     0.560745  \n",
       "2               491             505   20845  Subscriber     0.918719  \n",
       "3               384             399   19610  Subscriber     0.602053  \n",
       "4               474             432   20197  Subscriber     2.122555  "
      ]
     },
     "execution_count": 48,
     "metadata": {},
     "output_type": "execute_result"
    }
   ],
   "source": [
    "df.head()"
   ]
  },
  {
   "cell_type": "code",
   "execution_count": 49,
   "metadata": {
    "collapsed": false
   },
   "outputs": [
    {
     "name": "stdout",
     "output_type": "stream",
     "text": [
      "Median trip duration in 2015 was: 629.0 seconds\n"
     ]
    }
   ],
   "source": [
    "part1_median_trip_duration(df)"
   ]
  },
  {
   "cell_type": "code",
   "execution_count": 50,
   "metadata": {
    "collapsed": false
   },
   "outputs": [
    {
     "name": "stdout",
     "output_type": "stream",
     "text": [
      "Fraction of rides start and end at the same station:0.0223583913373\n"
     ]
    }
   ],
   "source": [
    "part2_fraction_of_rides_same_start_stop(df)"
   ]
  },
  {
   "cell_type": "code",
   "execution_count": 51,
   "metadata": {
    "collapsed": false
   },
   "outputs": [
    {
     "name": "stdout",
     "output_type": "stream",
     "text": [
      "Standard deviation of the number of stations visited by a bike: 54.5418965359\n"
     ]
    }
   ],
   "source": [
    "part3_standard_deviation_bike_station_visit(df)"
   ]
  },
  {
   "cell_type": "code",
   "execution_count": 52,
   "metadata": {
    "collapsed": false
   },
   "outputs": [
    {
     "name": "stdout",
     "output_type": "stream",
     "text": [
      "Average length, in kilometers, of a trip (excluding trips with the same start and stop stations): 1.75965252546\n"
     ]
    }
   ],
   "source": [
    "part4_average_trip_length(df)"
   ]
  },
  {
   "cell_type": "code",
   "execution_count": 53,
   "metadata": {
    "collapsed": false
   },
   "outputs": [
    {
     "data": {
      "text/html": [
       "<div>\n",
       "<table border=\"1\" class=\"dataframe\">\n",
       "  <thead>\n",
       "    <tr style=\"text-align: right;\">\n",
       "      <th></th>\n",
       "      <th>Unnamed: 0</th>\n",
       "      <th>tripduration</th>\n",
       "      <th>starttime</th>\n",
       "      <th>stoptime</th>\n",
       "      <th>start station id</th>\n",
       "      <th>end station id</th>\n",
       "      <th>bikeid</th>\n",
       "      <th>usertype</th>\n",
       "      <th>trip length</th>\n",
       "    </tr>\n",
       "  </thead>\n",
       "  <tbody>\n",
       "    <tr>\n",
       "      <th>0</th>\n",
       "      <td>0</td>\n",
       "      <td>1346</td>\n",
       "      <td>2015-01-01 00:01:00</td>\n",
       "      <td>2015-01-01 00:24:00</td>\n",
       "      <td>455</td>\n",
       "      <td>265</td>\n",
       "      <td>18660</td>\n",
       "      <td>Subscriber</td>\n",
       "      <td>3.615820</td>\n",
       "    </tr>\n",
       "    <tr>\n",
       "      <th>1</th>\n",
       "      <td>1</td>\n",
       "      <td>363</td>\n",
       "      <td>2015-01-01 00:02:00</td>\n",
       "      <td>2015-01-01 00:08:00</td>\n",
       "      <td>434</td>\n",
       "      <td>482</td>\n",
       "      <td>16085</td>\n",
       "      <td>Subscriber</td>\n",
       "      <td>0.560745</td>\n",
       "    </tr>\n",
       "    <tr>\n",
       "      <th>2</th>\n",
       "      <td>2</td>\n",
       "      <td>346</td>\n",
       "      <td>2015-01-01 00:04:00</td>\n",
       "      <td>2015-01-01 00:10:00</td>\n",
       "      <td>491</td>\n",
       "      <td>505</td>\n",
       "      <td>20845</td>\n",
       "      <td>Subscriber</td>\n",
       "      <td>0.918719</td>\n",
       "    </tr>\n",
       "    <tr>\n",
       "      <th>3</th>\n",
       "      <td>3</td>\n",
       "      <td>182</td>\n",
       "      <td>2015-01-01 00:04:00</td>\n",
       "      <td>2015-01-01 00:07:00</td>\n",
       "      <td>384</td>\n",
       "      <td>399</td>\n",
       "      <td>19610</td>\n",
       "      <td>Subscriber</td>\n",
       "      <td>0.602053</td>\n",
       "    </tr>\n",
       "    <tr>\n",
       "      <th>4</th>\n",
       "      <td>4</td>\n",
       "      <td>969</td>\n",
       "      <td>2015-01-01 00:05:00</td>\n",
       "      <td>2015-01-01 00:21:00</td>\n",
       "      <td>474</td>\n",
       "      <td>432</td>\n",
       "      <td>20197</td>\n",
       "      <td>Subscriber</td>\n",
       "      <td>2.122555</td>\n",
       "    </tr>\n",
       "  </tbody>\n",
       "</table>\n",
       "</div>"
      ],
      "text/plain": [
       "   Unnamed: 0  tripduration           starttime            stoptime  \\\n",
       "0           0          1346 2015-01-01 00:01:00 2015-01-01 00:24:00   \n",
       "1           1           363 2015-01-01 00:02:00 2015-01-01 00:08:00   \n",
       "2           2           346 2015-01-01 00:04:00 2015-01-01 00:10:00   \n",
       "3           3           182 2015-01-01 00:04:00 2015-01-01 00:07:00   \n",
       "4           4           969 2015-01-01 00:05:00 2015-01-01 00:21:00   \n",
       "\n",
       "   start station id  end station id  bikeid    usertype  trip length  \n",
       "0               455             265   18660  Subscriber     3.615820  \n",
       "1               434             482   16085  Subscriber     0.560745  \n",
       "2               491             505   20845  Subscriber     0.918719  \n",
       "3               384             399   19610  Subscriber     0.602053  \n",
       "4               474             432   20197  Subscriber     2.122555  "
      ]
     },
     "execution_count": 53,
     "metadata": {},
     "output_type": "execute_result"
    }
   ],
   "source": [
    "df.head()"
   ]
  },
  {
   "cell_type": "code",
   "execution_count": 54,
   "metadata": {
    "collapsed": false
   },
   "outputs": [
    {
     "name": "stdout",
     "output_type": "stream",
     "text": [
      "Difference between maximum and minimum average of monthly trip durations: 430.57029597 second.\n"
     ]
    }
   ],
   "source": [
    "part5_average_duration_of_trips_monthly(df)"
   ]
  },
  {
   "cell_type": "code",
   "execution_count": 60,
   "metadata": {
    "collapsed": false
   },
   "outputs": [
    {
     "name": "stdout",
     "output_type": "stream",
     "text": [
      "Largest ratio of station hourly usage fraction to system hourly usage fraction: 11.4216840462\n"
     ]
    }
   ],
   "source": [
    "part6_largest_ratio_of_hourly_usage(df)"
   ]
  },
  {
   "cell_type": "code",
   "execution_count": 55,
   "metadata": {
    "collapsed": false
   },
   "outputs": [
    {
     "name": "stdout",
     "output_type": "stream",
     "text": [
      "Fraction of rides exceed their corresponding time limit: 0.0381067801681\n"
     ]
    }
   ],
   "source": [
    "part7_fraction_of_rides_exceeding_time_limit(df)"
   ]
  },
  {
   "cell_type": "code",
   "execution_count": 56,
   "metadata": {
    "collapsed": false
   },
   "outputs": [
    {
     "name": "stdout",
     "output_type": "stream",
     "text": [
      "The average number of times a bike is moved for redistribution or maintenance: 66.4218473517\n"
     ]
    }
   ],
   "source": [
    "part8_average_number_of_time_bike_moved(df)"
   ]
  },
  {
   "cell_type": "code",
   "execution_count": null,
   "metadata": {
    "collapsed": true
   },
   "outputs": [],
   "source": []
  }
 ],
 "metadata": {
  "anaconda-cloud": {},
  "kernelspec": {
   "display_name": "Python [conda root]",
   "language": "python",
   "name": "conda-root-py"
  },
  "language_info": {
   "codemirror_mode": {
    "name": "ipython",
    "version": 2
   },
   "file_extension": ".py",
   "mimetype": "text/x-python",
   "name": "python",
   "nbconvert_exporter": "python",
   "pygments_lexer": "ipython2",
   "version": "2.7.9"
  }
 },
 "nbformat": 4,
 "nbformat_minor": 1
}
